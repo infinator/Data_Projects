{
 "cells": [
  {
   "cell_type": "code",
   "execution_count": null,
   "metadata": {},
   "outputs": [],
   "source": [
    "!pip3 install openpyxl"
   ]
  },
  {
   "cell_type": "code",
   "execution_count": null,
   "metadata": {},
   "outputs": [],
   "source": [
    "import numpy as np\n",
    "import pandas as pd\n",
    "import warnings\n",
    "import matplotlib.pyplot as plt\n",
    "import seaborn as sns\n",
    "import plotly.express as px\n",
    "import plotly.express as px\n",
    "import plotly.graph_objects as go\n",
    "import plotly.io as pio\n",
    "from plotly.subplots import make_subplots\n",
    "from plotly.offline import plot, iplot, init_notebook_mode\n",
    "init_notebook_mode(connected=True)\n",
    "from PIL import Image\n",
    "from wordcloud import WordCloud, STOPWORDS, ImageColorGenerator"
   ]
  },
  {
   "cell_type": "code",
   "execution_count": null,
   "metadata": {},
   "outputs": [],
   "source": [
    "fig = px.colors.qualitative.swatches()\n",
    "fig.show()"
   ]
  },
  {
   "cell_type": "code",
   "execution_count": null,
   "metadata": {},
   "outputs": [],
   "source": [
    "pio.templates.default = \"simple_white\"\n",
    "antq_blue = \"#336699\"\n",
    "antq_purple = \"#ac39ac\"\n",
    "antq_red = \"#e63900\"\n",
    "antq_orange = \"#ff8c1a\"\n",
    "faded_grey = \"#e6e6e6\"\n",
    "light_grey = \"#d9d9d9\"\n",
    "heading_font = \"Brush Script MT, Brush Script Std, cursive\"\n",
    "normal_font = \"times new roman\"\n",
    "palette = px.colors.qualitative.Antique\n",
    "warnings.filterwarnings('ignore')"
   ]
  },
  {
   "cell_type": "code",
   "execution_count": null,
   "metadata": {},
   "outputs": [],
   "source": [
    "general = pd.read_csv(\"Anime.csv\")\n",
    "general.head(3)"
   ]
  },
  {
   "cell_type": "code",
   "execution_count": null,
   "metadata": {},
   "outputs": [],
   "source": [
    "general.info()"
   ]
  },
  {
   "cell_type": "code",
   "execution_count": null,
   "metadata": {},
   "outputs": [],
   "source": [
    "general.describe()"
   ]
  },
  {
   "cell_type": "code",
   "execution_count": null,
   "metadata": {},
   "outputs": [],
   "source": [
    "general.columns"
   ]
  },
  {
   "cell_type": "code",
   "execution_count": null,
   "metadata": {},
   "outputs": [],
   "source": [
    "general[\"Type\"].unique()"
   ]
  },
  {
   "cell_type": "code",
   "execution_count": null,
   "metadata": {},
   "outputs": [],
   "source": [
    "general = general.sort_values(by='Rating', ascending = False)\n",
    "top_10_rated = general.head(10)\n",
    "top_10_rated"
   ]
  },
  {
   "cell_type": "code",
   "execution_count": null,
   "metadata": {},
   "outputs": [],
   "source": [
    "fig = px.histogram(top_10_rated,\n",
    "                   y=\"Rating\",\n",
    "                   x=\"Name\",\n",
    "                   height=600,\n",
    "                   labels={\n",
    "                           \"Name\" : \"Anime\"\n",
    "                          },\n",
    "                   color = \"Rating\",\n",
    "                   color_discrete_sequence=[\"purple\"]+[antq_purple for i in range(3)]+[\"violet\" for i in range(3)]+[light_grey for i in range(3)]\n",
    "                  )\n",
    "\n",
    "# fig.update_traces(hovertemplate=None)\n",
    "\n",
    "fig.update_traces(hovertemplate ='%{x}' + \" : \" + \"%{y}\", selector=dict(type=\"histogram\"))\n",
    "\n",
    "fig.update_layout(\n",
    "    title = \"Top rated Anime\",\n",
    "    yaxis_title = \"Rating\",\n",
    "    yaxis_range=[4.5,4.61],\n",
    "    showlegend=False,\n",
    "    hoverlabel=dict(\n",
    "        bgcolor=\"lavender\",\n",
    "        font_size=14\n",
    "    ),\n",
    "    font=dict(\n",
    "        color = \"Purple\"\n",
    "    )\n",
    ")"
   ]
  },
  {
   "cell_type": "code",
   "execution_count": null,
   "metadata": {},
   "outputs": [],
   "source": [
    "fig = px.histogram(top_10_rated,\n",
    "                   y=\"Rating\",\n",
    "                   x=\"Name\",\n",
    "                   height=600,\n",
    "                   labels={\n",
    "                           \"Name\" : \"Anime\"\n",
    "                          },\n",
    "                   color = \"Type\",\n",
    "                   color_discrete_sequence=[antq_blue, antq_purple, antq_red]\n",
    "                  )\n",
    "\n",
    "# fig.update_traces(hovertemplate=None)\n",
    "\n",
    "fig.update_traces(hovertemplate ='%{x}' + \" : \" + \"%{y}\", selector=dict(type=\"histogram\"))\n",
    "\n",
    "fig.update_layout(\n",
    "    title = \"Top rated Anime & their type\",\n",
    "    yaxis_title = \"Rating\",\n",
    "    yaxis_range=[4.5,4.61],\n",
    "    xaxis={'categoryorder':'total descending'},\n",
    "    hoverlabel=dict(\n",
    "        #bgcolor=\"lavendar\",\n",
    "        font_size=14\n",
    "    ),\n",
    "    legend=dict(\n",
    "        yanchor=\"top\",\n",
    "        y=0.90,\n",
    "        xanchor=\"left\",\n",
    "        x=0.80,\n",
    "        #bgcolor=\"lavender\",\n",
    "        bordercolor=\"purple\",\n",
    "        borderwidth=1\n",
    "    )\n",
    ")\n",
    "\n",
    "fig.show()"
   ]
  },
  {
   "cell_type": "code",
   "execution_count": null,
   "metadata": {},
   "outputs": [],
   "source": [
    "data = dict(\n",
    "    number=[39, 27.4, 20.6, 11, 2],\n",
    "    stage=[\"Website visit\", \"Downloads\", \"Potential customers\", \"Requested price\", \"invoice sent\"])\n",
    "\n",
    "fig = px.funnel(data, x='number', y='stage')\n",
    "\n",
    "#fig = px.funnel(general, x='Rating', y='Name')\n",
    "\n",
    "fig.show()"
   ]
  },
  {
   "cell_type": "code",
   "execution_count": null,
   "metadata": {},
   "outputs": [],
   "source": []
  }
 ],
 "metadata": {
  "interpreter": {
   "hash": "e9f60db4ff86244adc67dfe08adfb557a173d89acb68785dab7d3b037297f94f"
  },
  "kernelspec": {
   "display_name": "Python 3 (ipykernel)",
   "language": "python",
   "name": "python3"
  },
  "language_info": {
   "codemirror_mode": {
    "name": "ipython",
    "version": 3
   },
   "file_extension": ".py",
   "mimetype": "text/x-python",
   "name": "python",
   "nbconvert_exporter": "python",
   "pygments_lexer": "ipython3",
   "version": "3.7.1"
  }
 },
 "nbformat": 4,
 "nbformat_minor": 2
}
