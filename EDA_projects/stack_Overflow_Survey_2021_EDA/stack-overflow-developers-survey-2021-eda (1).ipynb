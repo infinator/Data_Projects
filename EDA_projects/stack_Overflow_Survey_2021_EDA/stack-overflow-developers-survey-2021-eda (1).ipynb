{
 "cells": [
  {
   "cell_type": "markdown",
   "id": "ebdad6d6",
   "metadata": {
    "papermill": {
     "duration": 0.037317,
     "end_time": "2022-02-09T10:18:05.364286",
     "exception": false,
     "start_time": "2022-02-09T10:18:05.326969",
     "status": "completed"
    },
    "tags": []
   },
   "source": [
    "<h1 style = \"color:purple; font-family:verdana;\"><center>📈 <u>S</u>tack <u>O</u>verflow <u>D</u>evelopers <u>S</u>urvey <u>2</u>021 - <u>E</u>DA 📊</center></h1>\n",
    "<p><center style = \"color:#FF00FF; font-family:verdana;\">Let's Analyse Programmers</center></p>"
   ]
  },
  {
   "cell_type": "markdown",
   "id": "b6f91cba",
   "metadata": {
    "papermill": {
     "duration": 0.035219,
     "end_time": "2022-02-09T10:18:05.437050",
     "exception": false,
     "start_time": "2022-02-09T10:18:05.401831",
     "status": "completed"
    },
    "tags": []
   },
   "source": [
    "![](https://media.istockphoto.com/vectors/young-male-character-writing-code-on-a-desktop-computer-working-from-vector-id1219473617?k=20&m=1219473617&s=612x612&w=0&h=A8e5lzJhIqWCzzY9oK0QplPYDICDnfApKpSkcBEzEhE=)<br>"
   ]
  },
  {
   "cell_type": "markdown",
   "id": "13dac933",
   "metadata": {
    "papermill": {
     "duration": 0.038186,
     "end_time": "2022-02-09T10:18:05.510403",
     "exception": false,
     "start_time": "2022-02-09T10:18:05.472217",
     "status": "completed"
    },
    "tags": []
   },
   "source": [
    "***"
   ]
  },
  {
   "cell_type": "markdown",
   "id": "47180050",
   "metadata": {
    "execution": {
     "iopub.execute_input": "2022-02-05T12:38:57.942483Z",
     "iopub.status.busy": "2022-02-05T12:38:57.941794Z",
     "iopub.status.idle": "2022-02-05T12:38:57.948379Z",
     "shell.execute_reply": "2022-02-05T12:38:57.947151Z",
     "shell.execute_reply.started": "2022-02-05T12:38:57.94244Z"
    },
    "papermill": {
     "duration": 0.035664,
     "end_time": "2022-02-09T10:18:05.581286",
     "exception": false,
     "start_time": "2022-02-09T10:18:05.545622",
     "status": "completed"
    },
    "tags": []
   },
   "source": [
    "<h1 style=\"color:#9D00FF; font-family:verdana;\">Introduction 📄</h1>"
   ]
  },
  {
   "cell_type": "markdown",
   "id": "521cab6b",
   "metadata": {
    "papermill": {
     "duration": 0.034873,
     "end_time": "2022-02-09T10:18:05.651337",
     "exception": false,
     "start_time": "2022-02-09T10:18:05.616464",
     "status": "completed"
    },
    "tags": []
   },
   "source": [
    "<p style=\"font-size:15px; font-family:verdana; line-height: 1.7em\">\n",
    "    Hi 👋<br>\n",
    "    I've been learning Data Analytics since the first day of 2022 and since I'm an 18yo guy who don't have any clue about what to do in life, I think too much about the other \"tech jobs\" which are different from Data Science/Analytics, i.e, about Web Dev, Blockchain, etc.\n",
    "</p>\n",
    "    <ul style=\"font-size:15px; font-family:verdana; line-height: 1.7em\">\n",
    "        <li>What's is it like to <b>become one</b> ?</li>\n",
    "        <li>What's their <b>mental state</b> ?</li>\n",
    "        <li>What's the <b>average years of experience</b> of programmers ?</li>\n",
    "        <li><b>Data Analytics</b> or <b>Front End Dev</b> ?</li>\n",
    "    </ul>\n",
    "<p style=\"font-size:15px; font-family:verdana; line-height: 1.7em\">    \n",
    "    And many other questions run through my mind 🤯<br>\n",
    "</p>\n",
    "<p style=\"font-size:15px; font-family:verdana; line-height: 1.7em\">\n",
    "    And voila! I found this dataset from a contribution of <a href=\"https://www.kaggle.com/ruchi798/stack-overflow-annual-developer-survey-2021\">Ruchi Bhatia</a> which can answer all of my questions 😌\n",
    "</p>"
   ]
  },
  {
   "cell_type": "markdown",
   "id": "48c26d2a",
   "metadata": {
    "papermill": {
     "duration": 0.034911,
     "end_time": "2022-02-09T10:18:05.721426",
     "exception": false,
     "start_time": "2022-02-09T10:18:05.686515",
     "status": "completed"
    },
    "tags": []
   },
   "source": [
    "<h3 style=\"font-family:verdana;\">About the Datasets :</h3>\n",
    "<p style=\"font-size:15px; font-family:verdana; line-height: 1.7em\">\n",
    "    This dataset is provided by <a href=\"https://www.stackoverflow.com\">Stack Overflow</a> namely <b>Stack Overflow Developers Survey 2021</b><br>\n",
    "    Hope I get some good insights.\n",
    "</p>\n",
    "<ol style=\"font-size:15px; font-family:verdana; line-height: 1.7em\">\n",
    "    <li><b>survey_results_question.csv : </b>Gives us the questions asked in the survey.</li>\n",
    "    <li><b>survey_results_question.csv : </b>Gives us the answers given by programmers to those questions.</li>\n",
    "</ol>"
   ]
  },
  {
   "cell_type": "markdown",
   "id": "d5e5dd9f",
   "metadata": {
    "papermill": {
     "duration": 0.03547,
     "end_time": "2022-02-09T10:18:05.792494",
     "exception": false,
     "start_time": "2022-02-09T10:18:05.757024",
     "status": "completed"
    },
    "tags": []
   },
   "source": [
    "<h1 style=\"color:#9D00FF; font-family:verdana;\">Libraries 📚</h1>"
   ]
  },
  {
   "cell_type": "markdown",
   "id": "2fbf5d05",
   "metadata": {
    "papermill": {
     "duration": 0.034911,
     "end_time": "2022-02-09T10:18:05.864880",
     "exception": false,
     "start_time": "2022-02-09T10:18:05.829969",
     "status": "completed"
    },
    "tags": []
   },
   "source": [
    "<p style=\"font-size:15px; font-family:verdana; line-height: 1.7em\">\n",
    "    <b>Libraries used : </b>Pandas, Matplotlib and Seaborn\n",
    "</p>"
   ]
  },
  {
   "cell_type": "code",
   "execution_count": 7,
   "id": "60aa4562",
   "metadata": {
    "_kg_hide-input": true,
    "execution": {
     "iopub.execute_input": "2022-02-09T10:18:05.943988Z",
     "iopub.status.busy": "2022-02-09T10:18:05.942046Z",
     "iopub.status.idle": "2022-02-09T10:18:07.155319Z",
     "shell.execute_reply": "2022-02-09T10:18:07.154446Z",
     "shell.execute_reply.started": "2022-02-09T05:12:28.264992Z"
    },
    "papermill": {
     "duration": 1.254997,
     "end_time": "2022-02-09T10:18:07.155500",
     "exception": false,
     "start_time": "2022-02-09T10:18:05.900503",
     "status": "completed"
    },
    "tags": []
   },
   "outputs": [],
   "source": [
    "import numpy as np\n",
    "import pandas as pd\n",
    "import seaborn as sns\n",
    "sns.set_style('whitegrid')\n",
    "import matplotlib.pyplot as plt\n",
    "%matplotlib inline\n",
    "from PIL import Image\n",
    "from wordcloud import WordCloud, STOPWORDS, ImageColorGenerator"
   ]
  },
  {
   "cell_type": "markdown",
   "id": "88481c84",
   "metadata": {
    "papermill": {
     "duration": 0.035009,
     "end_time": "2022-02-09T10:18:07.227916",
     "exception": false,
     "start_time": "2022-02-09T10:18:07.192907",
     "status": "completed"
    },
    "tags": []
   },
   "source": [
    "<h1 style=\"color:#9D00FF; font-family:verdana;\">Exploring the Data 📄</h1>"
   ]
  },
  {
   "cell_type": "markdown",
   "id": "ea3362d5",
   "metadata": {
    "papermill": {
     "duration": 0.035,
     "end_time": "2022-02-09T10:18:07.300477",
     "exception": false,
     "start_time": "2022-02-09T10:18:07.265477",
     "status": "completed"
    },
    "tags": []
   },
   "source": [
    "<h3 style=\"font-family:verdana;\">Dataset containing the responses of the survey :</h3>"
   ]
  },
  {
   "cell_type": "code",
   "execution_count": 8,
   "id": "271449f7",
   "metadata": {
    "_kg_hide-input": true,
    "execution": {
     "iopub.execute_input": "2022-02-09T10:18:07.376436Z",
     "iopub.status.busy": "2022-02-09T10:18:07.375620Z",
     "iopub.status.idle": "2022-02-09T10:18:11.121904Z",
     "shell.execute_reply": "2022-02-09T10:18:11.122456Z",
     "shell.execute_reply.started": "2022-02-09T05:12:28.502986Z"
    },
    "papermill": {
     "duration": 3.786526,
     "end_time": "2022-02-09T10:18:11.122659",
     "exception": false,
     "start_time": "2022-02-09T10:18:07.336133",
     "status": "completed"
    },
    "tags": []
   },
   "outputs": [
    {
     "data": {
      "text/html": [
       "<div>\n",
       "<style scoped>\n",
       "    .dataframe tbody tr th:only-of-type {\n",
       "        vertical-align: middle;\n",
       "    }\n",
       "\n",
       "    .dataframe tbody tr th {\n",
       "        vertical-align: top;\n",
       "    }\n",
       "\n",
       "    .dataframe thead th {\n",
       "        text-align: right;\n",
       "    }\n",
       "</style>\n",
       "<table border=\"1\" class=\"dataframe\">\n",
       "  <thead>\n",
       "    <tr style=\"text-align: right;\">\n",
       "      <th></th>\n",
       "      <th>Accessibility</th>\n",
       "      <th>Age</th>\n",
       "      <th>Age1stCode</th>\n",
       "      <th>CompFreq</th>\n",
       "      <th>CompTotal</th>\n",
       "      <th>Country</th>\n",
       "      <th>Currency</th>\n",
       "      <th>DevType</th>\n",
       "      <th>EdLevel</th>\n",
       "      <th>Employment</th>\n",
       "      <th>...</th>\n",
       "      <th>SOPartFreq</th>\n",
       "      <th>SOVisitFreq</th>\n",
       "      <th>Sexuality</th>\n",
       "      <th>SurveyEase</th>\n",
       "      <th>SurveyLength</th>\n",
       "      <th>Trans</th>\n",
       "      <th>UK_Country</th>\n",
       "      <th>US_State</th>\n",
       "      <th>YearsCode</th>\n",
       "      <th>YearsCodePro</th>\n",
       "    </tr>\n",
       "    <tr>\n",
       "      <th>Respondent</th>\n",
       "      <th></th>\n",
       "      <th></th>\n",
       "      <th></th>\n",
       "      <th></th>\n",
       "      <th></th>\n",
       "      <th></th>\n",
       "      <th></th>\n",
       "      <th></th>\n",
       "      <th></th>\n",
       "      <th></th>\n",
       "      <th></th>\n",
       "      <th></th>\n",
       "      <th></th>\n",
       "      <th></th>\n",
       "      <th></th>\n",
       "      <th></th>\n",
       "      <th></th>\n",
       "      <th></th>\n",
       "      <th></th>\n",
       "      <th></th>\n",
       "      <th></th>\n",
       "    </tr>\n",
       "  </thead>\n",
       "  <tbody>\n",
       "    <tr>\n",
       "      <th>1</th>\n",
       "      <td>None of the above</td>\n",
       "      <td>25-34 years old</td>\n",
       "      <td>18 - 24 years</td>\n",
       "      <td>Monthly</td>\n",
       "      <td>4800.0</td>\n",
       "      <td>Slovakia</td>\n",
       "      <td>EUR European Euro</td>\n",
       "      <td>Developer, mobile</td>\n",
       "      <td>Secondary school (e.g. American high school, G...</td>\n",
       "      <td>Independent contractor, freelancer, or self-em...</td>\n",
       "      <td>...</td>\n",
       "      <td>A few times per month or weekly</td>\n",
       "      <td>Multiple times per day</td>\n",
       "      <td>Straight / Heterosexual</td>\n",
       "      <td>Easy</td>\n",
       "      <td>Appropriate in length</td>\n",
       "      <td>No</td>\n",
       "      <td>NaN</td>\n",
       "      <td>NaN</td>\n",
       "      <td>NaN</td>\n",
       "      <td>NaN</td>\n",
       "    </tr>\n",
       "    <tr>\n",
       "      <th>2</th>\n",
       "      <td>None of the above</td>\n",
       "      <td>18-24 years old</td>\n",
       "      <td>11 - 17 years</td>\n",
       "      <td>NaN</td>\n",
       "      <td>NaN</td>\n",
       "      <td>Netherlands</td>\n",
       "      <td>NaN</td>\n",
       "      <td>NaN</td>\n",
       "      <td>Bachelor’s degree (B.A., B.S., B.Eng., etc.)</td>\n",
       "      <td>Student, full-time</td>\n",
       "      <td>...</td>\n",
       "      <td>Daily or almost daily</td>\n",
       "      <td>Daily or almost daily</td>\n",
       "      <td>Straight / Heterosexual</td>\n",
       "      <td>Easy</td>\n",
       "      <td>Appropriate in length</td>\n",
       "      <td>No</td>\n",
       "      <td>NaN</td>\n",
       "      <td>NaN</td>\n",
       "      <td>7</td>\n",
       "      <td>NaN</td>\n",
       "    </tr>\n",
       "    <tr>\n",
       "      <th>3</th>\n",
       "      <td>None of the above</td>\n",
       "      <td>18-24 years old</td>\n",
       "      <td>11 - 17 years</td>\n",
       "      <td>NaN</td>\n",
       "      <td>NaN</td>\n",
       "      <td>Russian Federation</td>\n",
       "      <td>NaN</td>\n",
       "      <td>NaN</td>\n",
       "      <td>Bachelor’s degree (B.A., B.S., B.Eng., etc.)</td>\n",
       "      <td>Student, full-time</td>\n",
       "      <td>...</td>\n",
       "      <td>Multiple times per day</td>\n",
       "      <td>Multiple times per day</td>\n",
       "      <td>Prefer not to say</td>\n",
       "      <td>Easy</td>\n",
       "      <td>Appropriate in length</td>\n",
       "      <td>No</td>\n",
       "      <td>NaN</td>\n",
       "      <td>NaN</td>\n",
       "      <td>NaN</td>\n",
       "      <td>NaN</td>\n",
       "    </tr>\n",
       "    <tr>\n",
       "      <th>4</th>\n",
       "      <td>I am deaf / hard of hearing</td>\n",
       "      <td>35-44 years old</td>\n",
       "      <td>11 - 17 years</td>\n",
       "      <td>Monthly</td>\n",
       "      <td>NaN</td>\n",
       "      <td>Austria</td>\n",
       "      <td>EUR European Euro</td>\n",
       "      <td>Developer, front-end</td>\n",
       "      <td>Master’s degree (M.A., M.S., M.Eng., MBA, etc.)</td>\n",
       "      <td>Employed full-time</td>\n",
       "      <td>...</td>\n",
       "      <td>Daily or almost daily</td>\n",
       "      <td>Daily or almost daily</td>\n",
       "      <td>Straight / Heterosexual</td>\n",
       "      <td>Neither easy nor difficult</td>\n",
       "      <td>Appropriate in length</td>\n",
       "      <td>No</td>\n",
       "      <td>NaN</td>\n",
       "      <td>NaN</td>\n",
       "      <td>NaN</td>\n",
       "      <td>NaN</td>\n",
       "    </tr>\n",
       "    <tr>\n",
       "      <th>5</th>\n",
       "      <td>None of the above</td>\n",
       "      <td>25-34 years old</td>\n",
       "      <td>5 - 10 years</td>\n",
       "      <td>NaN</td>\n",
       "      <td>NaN</td>\n",
       "      <td>United Kingdom of Great Britain and Northern I...</td>\n",
       "      <td>GBP\\tPound sterling</td>\n",
       "      <td>Developer, desktop or enterprise applications;...</td>\n",
       "      <td>Master’s degree (M.A., M.S., M.Eng., MBA, etc.)</td>\n",
       "      <td>Independent contractor, freelancer, or self-em...</td>\n",
       "      <td>...</td>\n",
       "      <td>A few times per week</td>\n",
       "      <td>Daily or almost daily</td>\n",
       "      <td>NaN</td>\n",
       "      <td>Easy</td>\n",
       "      <td>Appropriate in length</td>\n",
       "      <td>No</td>\n",
       "      <td>England</td>\n",
       "      <td>NaN</td>\n",
       "      <td>17</td>\n",
       "      <td>10</td>\n",
       "    </tr>\n",
       "  </tbody>\n",
       "</table>\n",
       "<p>5 rows × 31 columns</p>\n",
       "</div>"
      ],
      "text/plain": [
       "                          Accessibility              Age     Age1stCode  \\\n",
       "Respondent                                                                \n",
       "1                     None of the above  25-34 years old  18 - 24 years   \n",
       "2                     None of the above  18-24 years old  11 - 17 years   \n",
       "3                     None of the above  18-24 years old  11 - 17 years   \n",
       "4           I am deaf / hard of hearing  35-44 years old  11 - 17 years   \n",
       "5                     None of the above  25-34 years old   5 - 10 years   \n",
       "\n",
       "           CompFreq  CompTotal  \\\n",
       "Respondent                       \n",
       "1           Monthly     4800.0   \n",
       "2               NaN        NaN   \n",
       "3               NaN        NaN   \n",
       "4           Monthly        NaN   \n",
       "5               NaN        NaN   \n",
       "\n",
       "                                                      Country  \\\n",
       "Respondent                                                      \n",
       "1                                                    Slovakia   \n",
       "2                                                 Netherlands   \n",
       "3                                          Russian Federation   \n",
       "4                                                     Austria   \n",
       "5           United Kingdom of Great Britain and Northern I...   \n",
       "\n",
       "                       Currency  \\\n",
       "Respondent                        \n",
       "1             EUR European Euro   \n",
       "2                           NaN   \n",
       "3                           NaN   \n",
       "4             EUR European Euro   \n",
       "5           GBP\\tPound sterling   \n",
       "\n",
       "                                                      DevType  \\\n",
       "Respondent                                                      \n",
       "1                                           Developer, mobile   \n",
       "2                                                         NaN   \n",
       "3                                                         NaN   \n",
       "4                                        Developer, front-end   \n",
       "5           Developer, desktop or enterprise applications;...   \n",
       "\n",
       "                                                      EdLevel  \\\n",
       "Respondent                                                      \n",
       "1           Secondary school (e.g. American high school, G...   \n",
       "2                Bachelor’s degree (B.A., B.S., B.Eng., etc.)   \n",
       "3                Bachelor’s degree (B.A., B.S., B.Eng., etc.)   \n",
       "4             Master’s degree (M.A., M.S., M.Eng., MBA, etc.)   \n",
       "5             Master’s degree (M.A., M.S., M.Eng., MBA, etc.)   \n",
       "\n",
       "                                                   Employment  ...  \\\n",
       "Respondent                                                     ...   \n",
       "1           Independent contractor, freelancer, or self-em...  ...   \n",
       "2                                          Student, full-time  ...   \n",
       "3                                          Student, full-time  ...   \n",
       "4                                          Employed full-time  ...   \n",
       "5           Independent contractor, freelancer, or self-em...  ...   \n",
       "\n",
       "                                 SOPartFreq             SOVisitFreq  \\\n",
       "Respondent                                                            \n",
       "1           A few times per month or weekly  Multiple times per day   \n",
       "2                     Daily or almost daily   Daily or almost daily   \n",
       "3                    Multiple times per day  Multiple times per day   \n",
       "4                     Daily or almost daily   Daily or almost daily   \n",
       "5                      A few times per week   Daily or almost daily   \n",
       "\n",
       "                          Sexuality                  SurveyEase  \\\n",
       "Respondent                                                        \n",
       "1           Straight / Heterosexual                        Easy   \n",
       "2           Straight / Heterosexual                        Easy   \n",
       "3                 Prefer not to say                        Easy   \n",
       "4           Straight / Heterosexual  Neither easy nor difficult   \n",
       "5                               NaN                        Easy   \n",
       "\n",
       "                     SurveyLength Trans UK_Country US_State YearsCode  \\\n",
       "Respondent                                                              \n",
       "1           Appropriate in length    No        NaN      NaN       NaN   \n",
       "2           Appropriate in length    No        NaN      NaN         7   \n",
       "3           Appropriate in length    No        NaN      NaN       NaN   \n",
       "4           Appropriate in length    No        NaN      NaN       NaN   \n",
       "5           Appropriate in length    No    England      NaN        17   \n",
       "\n",
       "           YearsCodePro  \n",
       "Respondent               \n",
       "1                   NaN  \n",
       "2                   NaN  \n",
       "3                   NaN  \n",
       "4                   NaN  \n",
       "5                    10  \n",
       "\n",
       "[5 rows x 31 columns]"
      ]
     },
     "execution_count": 8,
     "metadata": {},
     "output_type": "execute_result"
    }
   ],
   "source": [
    "srp = pd.read_csv(\"survey_results_public.csv\")\n",
    "\n",
    "l = [\n",
    "    'Accessibility',\n",
    " 'Age',\n",
    " 'Age1stCode',\n",
    " 'CompFreq',\n",
    " 'CompTotal',\n",
    " 'Country',\n",
    " 'Currency',\n",
    " 'DevType',\n",
    " 'EdLevel',\n",
    " 'Employment',\n",
    " 'Ethnicity',\n",
    " 'Gender',\n",
    " 'LearnCode',\n",
    " 'MainBranch',\n",
    " 'MentalHealth',\n",
    " 'NEWOtherComms',\n",
    " 'NEWSOSites',\n",
    " 'NEWStuck',\n",
    " 'OrgSize',\n",
    " 'SOAccount',\n",
    " 'SOComm',\n",
    " 'SOPartFreq',\n",
    " 'SOVisitFreq',\n",
    " 'Sexuality',\n",
    " 'SurveyEase',\n",
    " 'SurveyLength',\n",
    " 'Trans',\n",
    " 'UK_Country',\n",
    " 'US_State',\n",
    " 'YearsCode',\n",
    " 'YearsCodePro'\n",
    "]\n",
    "\n",
    "srp = srp.loc[ : , l]\n",
    "\n",
    "srp['Respondent'] = np.arange(1, len(srp) + 1)\n",
    "srp = srp.set_index(\"Respondent\")\n",
    "\n",
    "srp.head()"
   ]
  },
  {
   "cell_type": "markdown",
   "id": "18c5af79",
   "metadata": {
    "papermill": {
     "duration": 0.036499,
     "end_time": "2022-02-09T10:18:11.196494",
     "exception": false,
     "start_time": "2022-02-09T10:18:11.159995",
     "status": "completed"
    },
    "tags": []
   },
   "source": [
    "<h3 style=\"font-family:verdana;\">Dataset containing the questions of the survey :</h3>"
   ]
  },
  {
   "cell_type": "code",
   "execution_count": 9,
   "id": "2c8e0340",
   "metadata": {
    "_kg_hide-input": true,
    "execution": {
     "iopub.execute_input": "2022-02-09T10:18:11.281506Z",
     "iopub.status.busy": "2022-02-09T10:18:11.280723Z",
     "iopub.status.idle": "2022-02-09T10:18:11.307119Z",
     "shell.execute_reply": "2022-02-09T10:18:11.307748Z",
     "shell.execute_reply.started": "2022-02-09T05:12:30.089376Z"
    },
    "papermill": {
     "duration": 0.072537,
     "end_time": "2022-02-09T10:18:11.307974",
     "exception": false,
     "start_time": "2022-02-09T10:18:11.235437",
     "status": "completed"
    },
    "tags": []
   },
   "outputs": [
    {
     "data": {
      "text/plain": [
       "column\n",
       "Accessibility    Which of the following describe you, if any? P...\n",
       "Age                                              What is your age?\n",
       "Age1stCode       At what age did you write your first line of c...\n",
       "CompFreq          Is that compensation weekly, monthly, or yearly?\n",
       "CompTotal        What is your current total compensation (salar...\n",
       "Country          Where do you live? <span style=\"font-weight: b...\n",
       "Currency         Which currency do you use day-to-day? If your ...\n",
       "DevType          Which of the following describes your current ...\n",
       "EdLevel          Which of the following best describes the high...\n",
       "Employment       Which of the following best describes your cur...\n",
       "Ethnicity        Which of the following describe you, if any? P...\n",
       "Gender           Which of the following describe you, if any? P...\n",
       "LearnCode        How did you learn to code? Select all that apply.\n",
       "MainBranch       Which of the following options best describes ...\n",
       "MentalHealth     Which of the following describe you, if any? P...\n",
       "NEWOtherComms    Are you a member of any other online developer...\n",
       "NEWSOSites       Which of the following Stack Overflow sites ha...\n",
       "NEWStuck         What do you do when you get stuck on a problem...\n",
       "OrgSize          Approximately how many people are employed by ...\n",
       "SOAccount                    Do you have a Stack Overflow account?\n",
       "SOComm           Do you consider yourself a member of the Stack...\n",
       "SOPartFreq       How frequently would you say you participate i...\n",
       "SOVisitFreq      How frequently would you say you visit Stack O...\n",
       "Sexuality        Which of the following describe you, if any? P...\n",
       "SurveyEase       How easy or difficult was this survey to compl...\n",
       "SurveyLength     How do you feel about the length of the survey...\n",
       "Trans                              Do you identify as transgender?\n",
       "UK_Country       In which part of the United Kingdom do you liv...\n",
       "US_State         <p>In which state or territory of the USA do y...\n",
       "YearsCode        Including any education, how many years have y...\n",
       "YearsCodePro     NOT including education, how many years have y...\n",
       "Name: question, dtype: object"
      ]
     },
     "execution_count": 9,
     "metadata": {},
     "output_type": "execute_result"
    }
   ],
   "source": [
    "srs = pd.read_csv(\"survey_results_schema.csv\")\n",
    "srs[\"column\"] = srs[\"qname\"]\n",
    "srs = srs[[\"column\", \"question\"]]\n",
    "\n",
    "to_drop = []\n",
    "\n",
    "for i in srs[\"column\"] :\n",
    "    if i not in l :\n",
    "        to_drop.append(i)\n",
    "\n",
    "srs = srs[~srs['column'].isin(to_drop)]\n",
    "srs = srs.set_index(\"column\")\n",
    "srs = srs.sort_values(\"column\")\n",
    "\n",
    "srs = srs[\"question\"]\n",
    "srs"
   ]
  },
  {
   "cell_type": "markdown",
   "id": "11aa7392",
   "metadata": {
    "papermill": {
     "duration": 0.036839,
     "end_time": "2022-02-09T10:18:11.382568",
     "exception": false,
     "start_time": "2022-02-09T10:18:11.345729",
     "status": "completed"
    },
    "tags": []
   },
   "source": [
    "<h3 style=\"font-family:verdana;\">Selecting colmns to perform EDA on</h3>"
   ]
  },
  {
   "cell_type": "code",
   "execution_count": 10,
   "id": "6ee6b93d",
   "metadata": {
    "_kg_hide-input": true,
    "execution": {
     "iopub.execute_input": "2022-02-09T10:18:11.463482Z",
     "iopub.status.busy": "2022-02-09T10:18:11.462788Z",
     "iopub.status.idle": "2022-02-09T10:18:11.531966Z",
     "shell.execute_reply": "2022-02-09T10:18:11.532531Z",
     "shell.execute_reply.started": "2022-02-09T05:12:30.107788Z"
    },
    "papermill": {
     "duration": 0.111602,
     "end_time": "2022-02-09T10:18:11.532763",
     "exception": false,
     "start_time": "2022-02-09T10:18:11.421161",
     "status": "completed"
    },
    "tags": []
   },
   "outputs": [
    {
     "name": "stdout",
     "output_type": "stream",
     "text": [
      "Columns Selected :\n",
      "     Country\n",
      "     Age\n",
      "     Gender\n",
      "     EdLevel\n",
      "     MentalHealth\n",
      "     Ethnicity\n",
      "     YearsCode\n",
      "     YearsCodePro\n",
      "     NEWStuck\n",
      "     Employment\n",
      "     DevType\n"
     ]
    }
   ],
   "source": [
    "cols = [\n",
    "    # About\n",
    "    'Country',\n",
    "    'Age',\n",
    "    'Gender',\n",
    "    'EdLevel',\n",
    "    'MentalHealth',\n",
    "    # Programming\n",
    "    'Ethnicity',\n",
    "    'YearsCode',\n",
    "    'YearsCodePro',\n",
    "    'NEWStuck',\n",
    "    # Work\n",
    "    'Employment',\n",
    "    'DevType',\n",
    "]\n",
    "\n",
    "result_public = srp[cols].copy()\n",
    "result_scheme = srs[cols]\n",
    "\n",
    "print(\"Columns Selected :\")\n",
    "for i in cols :\n",
    "    print(\"    \", i)"
   ]
  },
  {
   "cell_type": "markdown",
   "id": "347cfdda",
   "metadata": {
    "papermill": {
     "duration": 0.037485,
     "end_time": "2022-02-09T10:18:11.608109",
     "exception": false,
     "start_time": "2022-02-09T10:18:11.570624",
     "status": "completed"
    },
    "tags": []
   },
   "source": [
    "<h1 style=\"color:#9D00FF; font-family:verdana;\">Cleaning 🧹️</h1>"
   ]
  },
  {
   "cell_type": "markdown",
   "id": "aff9cd64",
   "metadata": {
    "papermill": {
     "duration": 0.038923,
     "end_time": "2022-02-09T10:18:11.685573",
     "exception": false,
     "start_time": "2022-02-09T10:18:11.646650",
     "status": "completed"
    },
    "tags": []
   },
   "source": [
    "<h3 style=\"font-family:verdana;\">Convert some columns to int or float type</h3>"
   ]
  },
  {
   "cell_type": "markdown",
   "id": "576f265c",
   "metadata": {
    "papermill": {
     "duration": 0.040181,
     "end_time": "2022-02-09T10:18:11.766292",
     "exception": false,
     "start_time": "2022-02-09T10:18:11.726111",
     "status": "completed"
    },
    "tags": []
   },
   "source": [
    "<p style=\"font-size:15px; font-family:verdana; line-height: 1.7em\">\n",
    "    I'm sorry but I'm not that comfortable dealing with object types so I'm gonna conver them to int or float type.\n",
    "</p>"
   ]
  },
  {
   "cell_type": "code",
   "execution_count": 11,
   "id": "ccceb5bd",
   "metadata": {
    "_kg_hide-input": true,
    "_kg_hide-output": true,
    "execution": {
     "iopub.execute_input": "2022-02-09T10:18:11.914315Z",
     "iopub.status.busy": "2022-02-09T10:18:11.884337Z",
     "iopub.status.idle": "2022-02-09T10:18:37.112383Z",
     "shell.execute_reply": "2022-02-09T10:18:37.112914Z",
     "shell.execute_reply.started": "2022-02-09T05:12:30.155399Z"
    },
    "papermill": {
     "duration": 25.308546,
     "end_time": "2022-02-09T10:18:37.113123",
     "exception": false,
     "start_time": "2022-02-09T10:18:11.804577",
     "status": "completed"
    },
    "tags": []
   },
   "outputs": [
    {
     "data": {
      "text/html": [
       "<div>\n",
       "<style scoped>\n",
       "    .dataframe tbody tr th:only-of-type {\n",
       "        vertical-align: middle;\n",
       "    }\n",
       "\n",
       "    .dataframe tbody tr th {\n",
       "        vertical-align: top;\n",
       "    }\n",
       "\n",
       "    .dataframe thead th {\n",
       "        text-align: right;\n",
       "    }\n",
       "</style>\n",
       "<table border=\"1\" class=\"dataframe\">\n",
       "  <thead>\n",
       "    <tr style=\"text-align: right;\">\n",
       "      <th></th>\n",
       "      <th>Country</th>\n",
       "      <th>Age</th>\n",
       "      <th>Gender</th>\n",
       "      <th>EdLevel</th>\n",
       "      <th>MentalHealth</th>\n",
       "      <th>Ethnicity</th>\n",
       "      <th>YearsCode</th>\n",
       "      <th>YearsCodePro</th>\n",
       "      <th>NEWStuck</th>\n",
       "      <th>Employment</th>\n",
       "      <th>DevType</th>\n",
       "    </tr>\n",
       "    <tr>\n",
       "      <th>Respondent</th>\n",
       "      <th></th>\n",
       "      <th></th>\n",
       "      <th></th>\n",
       "      <th></th>\n",
       "      <th></th>\n",
       "      <th></th>\n",
       "      <th></th>\n",
       "      <th></th>\n",
       "      <th></th>\n",
       "      <th></th>\n",
       "      <th></th>\n",
       "    </tr>\n",
       "  </thead>\n",
       "  <tbody>\n",
       "    <tr>\n",
       "      <th>1</th>\n",
       "      <td>Slovakia</td>\n",
       "      <td>30</td>\n",
       "      <td>Man</td>\n",
       "      <td>Secondary school (e.g. American high school, G...</td>\n",
       "      <td>None of the above</td>\n",
       "      <td>White or of European descent</td>\n",
       "      <td>NaN</td>\n",
       "      <td>NaN</td>\n",
       "      <td>Call a coworker or friend;Visit Stack Overflow...</td>\n",
       "      <td>Independent contractor, freelancer, or self-em...</td>\n",
       "      <td>Developer, mobile</td>\n",
       "    </tr>\n",
       "    <tr>\n",
       "      <th>2</th>\n",
       "      <td>Netherlands</td>\n",
       "      <td>21</td>\n",
       "      <td>Man</td>\n",
       "      <td>Bachelor’s degree (B.A., B.S., B.Eng., etc.)</td>\n",
       "      <td>None of the above</td>\n",
       "      <td>White or of European descent</td>\n",
       "      <td>7</td>\n",
       "      <td>NaN</td>\n",
       "      <td>Visit Stack Overflow;Google it</td>\n",
       "      <td>Student, full-time</td>\n",
       "      <td>NaN</td>\n",
       "    </tr>\n",
       "    <tr>\n",
       "      <th>3</th>\n",
       "      <td>Russian Federation</td>\n",
       "      <td>21</td>\n",
       "      <td>Man</td>\n",
       "      <td>Bachelor’s degree (B.A., B.S., B.Eng., etc.)</td>\n",
       "      <td>None of the above</td>\n",
       "      <td>Prefer not to say</td>\n",
       "      <td>NaN</td>\n",
       "      <td>NaN</td>\n",
       "      <td>Visit Stack Overflow;Google it;Watch help / tu...</td>\n",
       "      <td>Student, full-time</td>\n",
       "      <td>NaN</td>\n",
       "    </tr>\n",
       "    <tr>\n",
       "      <th>4</th>\n",
       "      <td>Austria</td>\n",
       "      <td>40</td>\n",
       "      <td>Man</td>\n",
       "      <td>Master’s degree (M.A., M.S., M.Eng., MBA, etc.)</td>\n",
       "      <td>NaN</td>\n",
       "      <td>White or of European descent</td>\n",
       "      <td>NaN</td>\n",
       "      <td>NaN</td>\n",
       "      <td>Call a coworker or friend;Visit Stack Overflow...</td>\n",
       "      <td>Employed full-time</td>\n",
       "      <td>Developer, front-end</td>\n",
       "    </tr>\n",
       "    <tr>\n",
       "      <th>5</th>\n",
       "      <td>United Kingdom of Great Britain and Northern I...</td>\n",
       "      <td>30</td>\n",
       "      <td>Man</td>\n",
       "      <td>Master’s degree (M.A., M.S., M.Eng., MBA, etc.)</td>\n",
       "      <td>NaN</td>\n",
       "      <td>White or of European descent</td>\n",
       "      <td>17</td>\n",
       "      <td>10</td>\n",
       "      <td>Visit Stack Overflow;Go for a walk or other ph...</td>\n",
       "      <td>Independent contractor, freelancer, or self-em...</td>\n",
       "      <td>Developer, desktop or enterprise applications;...</td>\n",
       "    </tr>\n",
       "  </tbody>\n",
       "</table>\n",
       "</div>"
      ],
      "text/plain": [
       "                                                      Country  Age Gender  \\\n",
       "Respondent                                                                  \n",
       "1                                                    Slovakia   30    Man   \n",
       "2                                                 Netherlands   21    Man   \n",
       "3                                          Russian Federation   21    Man   \n",
       "4                                                     Austria   40    Man   \n",
       "5           United Kingdom of Great Britain and Northern I...   30    Man   \n",
       "\n",
       "                                                      EdLevel  \\\n",
       "Respondent                                                      \n",
       "1           Secondary school (e.g. American high school, G...   \n",
       "2                Bachelor’s degree (B.A., B.S., B.Eng., etc.)   \n",
       "3                Bachelor’s degree (B.A., B.S., B.Eng., etc.)   \n",
       "4             Master’s degree (M.A., M.S., M.Eng., MBA, etc.)   \n",
       "5             Master’s degree (M.A., M.S., M.Eng., MBA, etc.)   \n",
       "\n",
       "                 MentalHealth                     Ethnicity YearsCode  \\\n",
       "Respondent                                                              \n",
       "1           None of the above  White or of European descent       NaN   \n",
       "2           None of the above  White or of European descent         7   \n",
       "3           None of the above             Prefer not to say       NaN   \n",
       "4                         NaN  White or of European descent       NaN   \n",
       "5                         NaN  White or of European descent        17   \n",
       "\n",
       "           YearsCodePro                                           NEWStuck  \\\n",
       "Respondent                                                                   \n",
       "1                   NaN  Call a coworker or friend;Visit Stack Overflow...   \n",
       "2                   NaN                     Visit Stack Overflow;Google it   \n",
       "3                   NaN  Visit Stack Overflow;Google it;Watch help / tu...   \n",
       "4                   NaN  Call a coworker or friend;Visit Stack Overflow...   \n",
       "5                    10  Visit Stack Overflow;Go for a walk or other ph...   \n",
       "\n",
       "                                                   Employment  \\\n",
       "Respondent                                                      \n",
       "1           Independent contractor, freelancer, or self-em...   \n",
       "2                                          Student, full-time   \n",
       "3                                          Student, full-time   \n",
       "4                                          Employed full-time   \n",
       "5           Independent contractor, freelancer, or self-em...   \n",
       "\n",
       "                                                      DevType  \n",
       "Respondent                                                     \n",
       "1                                           Developer, mobile  \n",
       "2                                                         NaN  \n",
       "3                                                         NaN  \n",
       "4                                        Developer, front-end  \n",
       "5           Developer, desktop or enterprise applications;...  "
      ]
     },
     "execution_count": 11,
     "metadata": {},
     "output_type": "execute_result"
    }
   ],
   "source": [
    "result_public = result_public[\n",
    "    (result_public[\"Age\"] == '25-34 years old') |\n",
    "    (result_public[\"Age\"] == '18-24 years old') |\n",
    "    (result_public[\"Age\"] == '35-44 years old') |\n",
    "    (result_public[\"Age\"] == '45-54 years old') |\n",
    "    (result_public[\"Age\"] == 'Under 18 years old') |\n",
    "    (result_public[\"Age\"] == '65 years or older') |\n",
    "    (result_public[\"Age\"] == '55-64 years old') |\n",
    "    (result_public[\"Age\"] == '25-34 years old')\n",
    "]\n",
    "\n",
    "for i in range(81832) :\n",
    "    if (result_public[\"Age\"].iloc[i] == '25-34 years old') :\n",
    "        result_public[\"Age\"].iloc[i] = 30\n",
    "    elif (result_public[\"Age\"].iloc[i] == '18-24 years old') :\n",
    "        result_public[\"Age\"].iloc[i] = 21\n",
    "    elif (result_public[\"Age\"].iloc[i] == '35-44 years old') :\n",
    "        result_public[\"Age\"].iloc[i] = 40\n",
    "    elif (result_public[\"Age\"].iloc[i] == '45-54 years old') :\n",
    "        result_public[\"Age\"].iloc[i] = 50\n",
    "    elif (result_public[\"Age\"].iloc[i] == 'Under 18 years old') :\n",
    "        result_public[\"Age\"].iloc[i] = 16\n",
    "    elif (result_public[\"Age\"].iloc[i] == '65 years or older') :\n",
    "        result_public[\"Age\"].iloc[i] = 65\n",
    "    elif (result_public[\"Age\"].iloc[i] == '55-64 years old') :\n",
    "        result_public[\"Age\"].iloc[i] = 58\n",
    "\n",
    "result_public = result_public.astype({\"Age\": int})\n",
    "result_public.head()"
   ]
  },
  {
   "cell_type": "markdown",
   "id": "1b90bcac",
   "metadata": {
    "papermill": {
     "duration": 0.037995,
     "end_time": "2022-02-09T10:18:37.190030",
     "exception": false,
     "start_time": "2022-02-09T10:18:37.152035",
     "status": "completed"
    },
    "tags": []
   },
   "source": [
    "<h3 style=\"font-family:verdana;\">Dealing with <code>YearsCode</code> and <code>YearsCodePro</code> columns</h3>"
   ]
  },
  {
   "cell_type": "code",
   "execution_count": 12,
   "id": "8751b414",
   "metadata": {
    "_kg_hide-input": true,
    "execution": {
     "iopub.execute_input": "2022-02-09T10:18:37.311532Z",
     "iopub.status.busy": "2022-02-09T10:18:37.302332Z",
     "iopub.status.idle": "2022-02-09T10:18:37.471037Z",
     "shell.execute_reply": "2022-02-09T10:18:37.471537Z",
     "shell.execute_reply.started": "2022-02-09T05:12:52.606253Z"
    },
    "papermill": {
     "duration": 0.243252,
     "end_time": "2022-02-09T10:18:37.471760",
     "exception": false,
     "start_time": "2022-02-09T10:18:37.228508",
     "status": "completed"
    },
    "tags": []
   },
   "outputs": [
    {
     "data": {
      "text/html": [
       "<div>\n",
       "<style scoped>\n",
       "    .dataframe tbody tr th:only-of-type {\n",
       "        vertical-align: middle;\n",
       "    }\n",
       "\n",
       "    .dataframe tbody tr th {\n",
       "        vertical-align: top;\n",
       "    }\n",
       "\n",
       "    .dataframe thead th {\n",
       "        text-align: right;\n",
       "    }\n",
       "</style>\n",
       "<table border=\"1\" class=\"dataframe\">\n",
       "  <thead>\n",
       "    <tr style=\"text-align: right;\">\n",
       "      <th></th>\n",
       "      <th>Country</th>\n",
       "      <th>Age</th>\n",
       "      <th>Gender</th>\n",
       "      <th>EdLevel</th>\n",
       "      <th>MentalHealth</th>\n",
       "      <th>Ethnicity</th>\n",
       "      <th>YearsCode</th>\n",
       "      <th>YearsCodePro</th>\n",
       "      <th>NEWStuck</th>\n",
       "      <th>Employment</th>\n",
       "      <th>DevType</th>\n",
       "    </tr>\n",
       "    <tr>\n",
       "      <th>Respondent</th>\n",
       "      <th></th>\n",
       "      <th></th>\n",
       "      <th></th>\n",
       "      <th></th>\n",
       "      <th></th>\n",
       "      <th></th>\n",
       "      <th></th>\n",
       "      <th></th>\n",
       "      <th></th>\n",
       "      <th></th>\n",
       "      <th></th>\n",
       "    </tr>\n",
       "  </thead>\n",
       "  <tbody>\n",
       "    <tr>\n",
       "      <th>9</th>\n",
       "      <td>India</td>\n",
       "      <td>30</td>\n",
       "      <td>Man</td>\n",
       "      <td>Bachelor’s degree (B.A., B.S., B.Eng., etc.)</td>\n",
       "      <td>I have a concentration and/or memory disorder ...</td>\n",
       "      <td>South Asian</td>\n",
       "      <td>6</td>\n",
       "      <td>4</td>\n",
       "      <td>Visit Stack Overflow;Google it;Panic</td>\n",
       "      <td>Employed part-time</td>\n",
       "      <td>Developer, front-end</td>\n",
       "    </tr>\n",
       "    <tr>\n",
       "      <th>10</th>\n",
       "      <td>Sweden</td>\n",
       "      <td>30</td>\n",
       "      <td>Man</td>\n",
       "      <td>Master’s degree (M.A., M.S., M.Eng., MBA, etc.)</td>\n",
       "      <td>None of the above</td>\n",
       "      <td>White or of European descent</td>\n",
       "      <td>7</td>\n",
       "      <td>4</td>\n",
       "      <td>Call a coworker or friend;Visit Stack Overflow...</td>\n",
       "      <td>Employed full-time</td>\n",
       "      <td>Data scientist or machine learning specialist</td>\n",
       "    </tr>\n",
       "    <tr>\n",
       "      <th>11</th>\n",
       "      <td>United Kingdom of Great Britain and Northern I...</td>\n",
       "      <td>30</td>\n",
       "      <td>Man</td>\n",
       "      <td>Bachelor’s degree (B.A., B.S., B.Eng., etc.)</td>\n",
       "      <td>None of the above</td>\n",
       "      <td>White or of European descent</td>\n",
       "      <td>16</td>\n",
       "      <td>10</td>\n",
       "      <td>Visit Stack Overflow;Google it</td>\n",
       "      <td>Employed full-time</td>\n",
       "      <td>Developer, back-end</td>\n",
       "    </tr>\n",
       "    <tr>\n",
       "      <th>12</th>\n",
       "      <td>Spain</td>\n",
       "      <td>30</td>\n",
       "      <td>Man</td>\n",
       "      <td>Bachelor’s degree (B.A., B.S., B.Eng., etc.)</td>\n",
       "      <td>None of the above</td>\n",
       "      <td>White or of European descent;Hispanic or Latin...</td>\n",
       "      <td>12</td>\n",
       "      <td>5</td>\n",
       "      <td>Call a coworker or friend;Visit Stack Overflow...</td>\n",
       "      <td>Employed full-time</td>\n",
       "      <td>Developer, back-end</td>\n",
       "    </tr>\n",
       "    <tr>\n",
       "      <th>13</th>\n",
       "      <td>Germany</td>\n",
       "      <td>30</td>\n",
       "      <td>Man</td>\n",
       "      <td>Master’s degree (M.A., M.S., M.Eng., MBA, etc.)</td>\n",
       "      <td>Prefer not to say</td>\n",
       "      <td>White or of European descent</td>\n",
       "      <td>15</td>\n",
       "      <td>6</td>\n",
       "      <td>Visit Stack Overflow;Google it;Watch help / tu...</td>\n",
       "      <td>Employed full-time</td>\n",
       "      <td>Developer, desktop or enterprise applications;...</td>\n",
       "    </tr>\n",
       "  </tbody>\n",
       "</table>\n",
       "</div>"
      ],
      "text/plain": [
       "                                                      Country  Age Gender  \\\n",
       "Respondent                                                                  \n",
       "9                                                       India   30    Man   \n",
       "10                                                     Sweden   30    Man   \n",
       "11          United Kingdom of Great Britain and Northern I...   30    Man   \n",
       "12                                                      Spain   30    Man   \n",
       "13                                                    Germany   30    Man   \n",
       "\n",
       "                                                    EdLevel  \\\n",
       "Respondent                                                    \n",
       "9              Bachelor’s degree (B.A., B.S., B.Eng., etc.)   \n",
       "10          Master’s degree (M.A., M.S., M.Eng., MBA, etc.)   \n",
       "11             Bachelor’s degree (B.A., B.S., B.Eng., etc.)   \n",
       "12             Bachelor’s degree (B.A., B.S., B.Eng., etc.)   \n",
       "13          Master’s degree (M.A., M.S., M.Eng., MBA, etc.)   \n",
       "\n",
       "                                                 MentalHealth  \\\n",
       "Respondent                                                      \n",
       "9           I have a concentration and/or memory disorder ...   \n",
       "10                                          None of the above   \n",
       "11                                          None of the above   \n",
       "12                                          None of the above   \n",
       "13                                          Prefer not to say   \n",
       "\n",
       "                                                    Ethnicity  YearsCode  \\\n",
       "Respondent                                                                 \n",
       "9                                                 South Asian          6   \n",
       "10                               White or of European descent          7   \n",
       "11                               White or of European descent         16   \n",
       "12          White or of European descent;Hispanic or Latin...         12   \n",
       "13                               White or of European descent         15   \n",
       "\n",
       "            YearsCodePro                                           NEWStuck  \\\n",
       "Respondent                                                                    \n",
       "9                      4               Visit Stack Overflow;Google it;Panic   \n",
       "10                     4  Call a coworker or friend;Visit Stack Overflow...   \n",
       "11                    10                     Visit Stack Overflow;Google it   \n",
       "12                     5  Call a coworker or friend;Visit Stack Overflow...   \n",
       "13                     6  Visit Stack Overflow;Google it;Watch help / tu...   \n",
       "\n",
       "                    Employment  \\\n",
       "Respondent                       \n",
       "9           Employed part-time   \n",
       "10          Employed full-time   \n",
       "11          Employed full-time   \n",
       "12          Employed full-time   \n",
       "13          Employed full-time   \n",
       "\n",
       "                                                      DevType  \n",
       "Respondent                                                     \n",
       "9                                        Developer, front-end  \n",
       "10              Data scientist or machine learning specialist  \n",
       "11                                        Developer, back-end  \n",
       "12                                        Developer, back-end  \n",
       "13          Developer, desktop or enterprise applications;...  "
      ]
     },
     "execution_count": 12,
     "metadata": {},
     "output_type": "execute_result"
    }
   ],
   "source": [
    "result_public = result_public.dropna()\n",
    "to_drop = ['Less than 1 year', 'More than 50 years']\n",
    "result_public = result_public[~result_public['YearsCode'].isin(to_drop)]\n",
    "result_public = result_public.astype({\"YearsCode\": int})\n",
    "\n",
    "to_drop = ['Less than 1 year', 'More than 50 years']\n",
    "result_public = result_public[~result_public['YearsCodePro'].isin(to_drop)]\n",
    "result_public = result_public.astype({\"YearsCodePro\": int})\n",
    "\n",
    "result_public.head()"
   ]
  },
  {
   "cell_type": "markdown",
   "id": "2698bf82",
   "metadata": {
    "papermill": {
     "duration": 0.038378,
     "end_time": "2022-02-09T10:18:37.549182",
     "exception": false,
     "start_time": "2022-02-09T10:18:37.510804",
     "status": "completed"
    },
    "tags": []
   },
   "source": [
    "<h3 style=\"font-family:verdana;\">Let's Explore the <code>Gender</code> column</h3>"
   ]
  },
  {
   "cell_type": "code",
   "execution_count": 13,
   "id": "c065de39",
   "metadata": {
    "execution": {
     "iopub.execute_input": "2022-02-09T10:18:37.631499Z",
     "iopub.status.busy": "2022-02-09T10:18:37.630438Z",
     "iopub.status.idle": "2022-02-09T10:18:37.641921Z",
     "shell.execute_reply": "2022-02-09T10:18:37.642541Z",
     "shell.execute_reply.started": "2022-02-09T05:12:52.722234Z"
    },
    "papermill": {
     "duration": 0.054802,
     "end_time": "2022-02-09T10:18:37.642757",
     "exception": false,
     "start_time": "2022-02-09T10:18:37.587955",
     "status": "completed"
    },
    "tags": []
   },
   "outputs": [
    {
     "data": {
      "text/plain": [
       "array(['Man', 'Non-binary, genderqueer, or gender non-conforming',\n",
       "       'Man;Or, in your own words:', 'Prefer not to say', 'Woman',\n",
       "       'Woman;Non-binary, genderqueer, or gender non-conforming',\n",
       "       'Man;Non-binary, genderqueer, or gender non-conforming',\n",
       "       'Or, in your own words:', 'Man;Woman',\n",
       "       'Man;Woman;Non-binary, genderqueer, or gender non-conforming;Or, in your own words:',\n",
       "       'Man;Woman;Non-binary, genderqueer, or gender non-conforming',\n",
       "       'Man;Non-binary, genderqueer, or gender non-conforming;Or, in your own words:',\n",
       "       'Non-binary, genderqueer, or gender non-conforming;Or, in your own words:',\n",
       "       'Woman;Or, in your own words:',\n",
       "       'Woman;Non-binary, genderqueer, or gender non-conforming;Or, in your own words:',\n",
       "       'Man;Woman;Or, in your own words:'], dtype=object)"
      ]
     },
     "execution_count": 13,
     "metadata": {},
     "output_type": "execute_result"
    }
   ],
   "source": [
    "result_public[\"Gender\"].unique()"
   ]
  },
  {
   "cell_type": "markdown",
   "id": "d77ce3f1",
   "metadata": {
    "papermill": {
     "duration": 0.040806,
     "end_time": "2022-02-09T10:18:37.723044",
     "exception": false,
     "start_time": "2022-02-09T10:18:37.682238",
     "status": "completed"
    },
    "tags": []
   },
   "source": [
    "<p style=\"font-size:15px; font-family:verdana; line-height: 1.7em\">\n",
    "    I think the data wants to get a punch from me 😡\n",
    "</p>"
   ]
  },
  {
   "cell_type": "code",
   "execution_count": 14,
   "id": "b9d68c29",
   "metadata": {
    "execution": {
     "iopub.execute_input": "2022-02-09T10:18:37.840626Z",
     "iopub.status.busy": "2022-02-09T10:18:37.839337Z",
     "iopub.status.idle": "2022-02-09T10:18:37.876660Z",
     "shell.execute_reply": "2022-02-09T10:18:37.875847Z",
     "shell.execute_reply.started": "2022-02-09T05:12:52.734015Z"
    },
    "papermill": {
     "duration": 0.103451,
     "end_time": "2022-02-09T10:18:37.876893",
     "exception": false,
     "start_time": "2022-02-09T10:18:37.773442",
     "status": "completed"
    },
    "tags": []
   },
   "outputs": [
    {
     "data": {
      "text/plain": [
       "array(['Man', 'Woman'], dtype=object)"
      ]
     },
     "execution_count": 14,
     "metadata": {},
     "output_type": "execute_result"
    }
   ],
   "source": [
    "result_public = result_public[(result_public[\"Gender\"] == \"Man\") | (result_public[\"Gender\"] == \"Woman\")]\n",
    "result_public[\"Gender\"].unique()"
   ]
  },
  {
   "cell_type": "markdown",
   "id": "8ae18d82",
   "metadata": {
    "papermill": {
     "duration": 0.039711,
     "end_time": "2022-02-09T10:18:37.958460",
     "exception": false,
     "start_time": "2022-02-09T10:18:37.918749",
     "status": "completed"
    },
    "tags": []
   },
   "source": [
    "<p style=\"font-size:15px; font-family:verdana; line-height: 1.7em\">\n",
    "    Gonna Explore with these two genders. Sry guys but i hate how this data is stored. Please comment what should I do with it 😩\n",
    "</p>"
   ]
  },
  {
   "cell_type": "markdown",
   "id": "c96ec4e4",
   "metadata": {
    "papermill": {
     "duration": 0.040517,
     "end_time": "2022-02-09T10:18:38.038905",
     "exception": false,
     "start_time": "2022-02-09T10:18:37.998388",
     "status": "completed"
    },
    "tags": []
   },
   "source": [
    "<h1 style=\"color:#9D00FF; font-family:verdana;\">Visualizations 📊</h1>"
   ]
  },
  {
   "cell_type": "markdown",
   "id": "6a2449d5",
   "metadata": {
    "papermill": {
     "duration": 0.039763,
     "end_time": "2022-02-09T10:18:38.121301",
     "exception": false,
     "start_time": "2022-02-09T10:18:38.081538",
     "status": "completed"
    },
    "tags": []
   },
   "source": [
    "<h3 style=\"font-family:verdana;\">Where do programmers <span style = \"color : purple\">live</span> ?</h3>"
   ]
  },
  {
   "cell_type": "code",
   "execution_count": 15,
   "id": "fb7f156e",
   "metadata": {
    "_kg_hide-input": true,
    "execution": {
     "iopub.execute_input": "2022-02-09T10:18:38.204638Z",
     "iopub.status.busy": "2022-02-09T10:18:38.203971Z",
     "iopub.status.idle": "2022-02-09T10:18:38.643163Z",
     "shell.execute_reply": "2022-02-09T10:18:38.642466Z",
     "shell.execute_reply.started": "2022-02-09T05:12:52.766887Z"
    },
    "papermill": {
     "duration": 0.481661,
     "end_time": "2022-02-09T10:18:38.643327",
     "exception": false,
     "start_time": "2022-02-09T10:18:38.161666",
     "status": "completed"
    },
    "tags": []
   },
   "outputs": [
    {
     "data": {
      "image/png": "[encoded data removed]",
      "text/plain": [
       "<Figure size 1152x432 with 1 Axes>"
      ]
     },
     "metadata": {
      "needs_background": "light"
     },
     "output_type": "display_data"
    }
   ],
   "source": [
    "result_public['Country'] = result_public['Country'].replace(\"United Kingdom of Great Britain and Northern Ireland\", 'UK & Ireland')\n",
    "plt.figure(figsize=(16,6))\n",
    "plt.xticks(rotation = 70)\n",
    "plt.title(\"Where do programmers live ?\")\n",
    "sns.countplot(x = \"Country\", data = result_public, order = result_public['Country'].value_counts().index[0 : 15], palette = sns.light_palette(\"#9D61C8\", reverse = True, n_colors = int(15 * 1.2)));"
   ]
  },
  {
   "cell_type": "markdown",
   "id": "8f07b2bd",
   "metadata": {
    "papermill": {
     "duration": 0.041254,
     "end_time": "2022-02-09T10:18:38.725644",
     "exception": false,
     "start_time": "2022-02-09T10:18:38.684390",
     "status": "completed"
    },
    "tags": []
   },
   "source": [
    "<p style=\"font-size:15px; font-family:verdana; line-height: 1.7em\">\n",
    "    Woah! It seems USA clapped every country 🔥<br>\n",
    "    But wait! How many the USA programmers are from India? Yeah! Probably too many 🤷<br>\n",
    "    Reason for this many programmers from USA and India could be that many english speakers can be found in these countries.\n",
    "</p>\n",
    "\n",
    "<div style=\"color:white;\n",
    "            display:fill;\n",
    "            background-color:#CBC3E3;\n",
    "            font-family:Verdana;\n",
    "            line-height : 1.7em\">\n",
    "    <p style=\"padding: 10px;\n",
    "              border-style : solid;\n",
    "              border-width: thin;\n",
    "              border-color: purple;\n",
    "              color:purple;\">\n",
    "        📌 &nbsp; Most programmers live in USA and India.\n",
    "    </p>\n",
    "</div>"
   ]
  },
  {
   "cell_type": "markdown",
   "id": "7c22e02a",
   "metadata": {
    "papermill": {
     "duration": 0.040962,
     "end_time": "2022-02-09T10:18:38.808449",
     "exception": false,
     "start_time": "2022-02-09T10:18:38.767487",
     "status": "completed"
    },
    "tags": []
   },
   "source": [
    "***"
   ]
  },
  {
   "cell_type": "markdown",
   "id": "bc2c2b33",
   "metadata": {
    "papermill": {
     "duration": 0.041825,
     "end_time": "2022-02-09T10:18:38.891844",
     "exception": false,
     "start_time": "2022-02-09T10:18:38.850019",
     "status": "completed"
    },
    "tags": []
   },
   "source": [
    "<h3 style=\"font-family:verdana;\">How many programmers are there of my <span style = \"color : purple\">age</span> ?</h3>"
   ]
  },
  {
   "cell_type": "markdown",
   "id": "5b643fc1",
   "metadata": {
    "papermill": {
     "duration": 0.04127,
     "end_time": "2022-02-09T10:18:38.978169",
     "exception": false,
     "start_time": "2022-02-09T10:18:38.936899",
     "status": "completed"
    },
    "tags": []
   },
   "source": [
    "<p style=\"font-size:15px; font-family:verdana; line-height: 1.7em\">\n",
    "    I am an 18yo student who just eat chips and live like a mess. (my sleep cycle is also fruked up)<br>\n",
    "    So I've always wondered if there is any student of my age who work and grind and earn money and stays indepent.<br>\n",
    "</p>\n",
    "\n",
    "<p style=\"font-size:15px; font-family:verdana; line-height: 1.7em\">\n",
    "    Bro if you are someone like this I just want to say you inspire us. Keep going 👍\n",
    "</p>\n",
    "\n",
    "<p style=\"font-size:15px; font-family:verdana; line-height: 1.7em\">\n",
    "    And if you are someone like me 🤷 then chill out man 😄 Let's connect.\n",
    "</p>\n",
    "\n",
    "<p style=\"font-size:15px; font-family:verdana; line-height: 1.7em\">\n",
    "    Okay! Enough talk. Now let's see their avg age.\n",
    "</p>"
   ]
  },
  {
   "cell_type": "code",
   "execution_count": 16,
   "id": "b7bfa043",
   "metadata": {
    "_kg_hide-input": true,
    "execution": {
     "iopub.execute_input": "2022-02-09T10:18:39.070451Z",
     "iopub.status.busy": "2022-02-09T10:18:39.069670Z",
     "iopub.status.idle": "2022-02-09T10:18:39.331237Z",
     "shell.execute_reply": "2022-02-09T10:18:39.330649Z",
     "shell.execute_reply.started": "2022-02-09T05:12:53.133756Z"
    },
    "papermill": {
     "duration": 0.311714,
     "end_time": "2022-02-09T10:18:39.331395",
     "exception": false,
     "start_time": "2022-02-09T10:18:39.019681",
     "status": "completed"
    },
    "tags": []
   },
   "outputs": [
    {
     "data": {
      "text/plain": [
       "Text(0.5, 0, 'Approx Age')"
      ]
     },
     "execution_count": 16,
     "metadata": {},
     "output_type": "execute_result"
    },
    {
     "data": {
      "image/png": "[encoded data removed]",
      "text/plain": [
       "<Figure size 1152x432 with 1 Axes>"
      ]
     },
     "metadata": {
      "needs_background": "light"
     },
     "output_type": "display_data"
    }
   ],
   "source": [
    "plt.figure(figsize=(16,6))\n",
    "plt.title(\"Programmer's Age\")\n",
    "sns.countplot(x = \"Age\", data = result_public, order = result_public['Age'].value_counts().index[ : ], color='#9D61C8').set_xlabel(\"Approx Age\")"
   ]
  },
  {
   "cell_type": "markdown",
   "id": "90b7a540",
   "metadata": {
    "papermill": {
     "duration": 0.042973,
     "end_time": "2022-02-09T10:18:39.416803",
     "exception": false,
     "start_time": "2022-02-09T10:18:39.373830",
     "status": "completed"
    },
    "tags": []
   },
   "source": [
    "<p style=\"font-size:15px; font-family:verdana; line-height: 1.7em\">\n",
    "    So most of them are in their 30's and 40's. Fresher's are comparatively less. hmm Interesting.\n",
    "</p>\n",
    "\n",
    "<div style=\"color:white;\n",
    "            display:fill;\n",
    "            background-color:#CBC3E3;\n",
    "            font-family:Verdana;\n",
    "            line-height : 1.7em\">\n",
    "    <p style=\"padding: 10px;\n",
    "              border-style : solid;\n",
    "              border-width: thin;\n",
    "              border-color: purple;\n",
    "              color:purple;\">\n",
    "        📌 &nbsp; Most programmers are in their 30's and 40's\n",
    "    </p>\n",
    "</div>"
   ]
  },
  {
   "cell_type": "markdown",
   "id": "c838d621",
   "metadata": {
    "papermill": {
     "duration": 0.043787,
     "end_time": "2022-02-09T10:18:39.503801",
     "exception": false,
     "start_time": "2022-02-09T10:18:39.460014",
     "status": "completed"
    },
    "tags": []
   },
   "source": [
    "***"
   ]
  },
  {
   "cell_type": "markdown",
   "id": "ed5d22f0",
   "metadata": {
    "papermill": {
     "duration": 0.042346,
     "end_time": "2022-02-09T10:18:39.588815",
     "exception": false,
     "start_time": "2022-02-09T10:18:39.546469",
     "status": "completed"
    },
    "tags": []
   },
   "source": [
    "<h3 style=\"font-family:verdana;\">Do I need a PhD to be <span style = \"color : purple\">good</span> at programming ?</h3>"
   ]
  },
  {
   "cell_type": "code",
   "execution_count": 17,
   "id": "779f34d7",
   "metadata": {
    "_kg_hide-input": true,
    "execution": {
     "iopub.execute_input": "2022-02-09T10:18:39.685275Z",
     "iopub.status.busy": "2022-02-09T10:18:39.684478Z",
     "iopub.status.idle": "2022-02-09T10:18:40.081569Z",
     "shell.execute_reply": "2022-02-09T10:18:40.080995Z",
     "shell.execute_reply.started": "2022-02-09T05:12:53.377082Z"
    },
    "papermill": {
     "duration": 0.450388,
     "end_time": "2022-02-09T10:18:40.081756",
     "exception": false,
     "start_time": "2022-02-09T10:18:39.631368",
     "status": "completed"
    },
    "tags": []
   },
   "outputs": [
    {
     "data": {
      "text/plain": [
       "<AxesSubplot:xlabel='count', ylabel='EdLevel'>"
      ]
     },
     "execution_count": 17,
     "metadata": {},
     "output_type": "execute_result"
    },
    {
     "data": {
      "image/png": "[encoded data removed]",
      "text/plain": [
       "<Figure size 720x576 with 1 Axes>"
      ]
     },
     "metadata": {
      "needs_background": "light"
     },
     "output_type": "display_data"
    }
   ],
   "source": [
    "plt.figure(figsize=(10, 8))\n",
    "sns.countplot(y = result_public[\"EdLevel\"], palette = sns.light_palette(\"#9D61C8\", reverse = True, n_colors = int(len(result_public[\"EdLevel\"].unique()) * 1.2)), order = result_public[\"EdLevel\"].value_counts().index)"
   ]
  },
  {
   "cell_type": "markdown",
   "id": "4401fb6f",
   "metadata": {
    "papermill": {
     "duration": 0.044318,
     "end_time": "2022-02-09T10:18:40.170431",
     "exception": false,
     "start_time": "2022-02-09T10:18:40.126113",
     "status": "completed"
    },
    "tags": []
   },
   "source": [
    "<p style=\"font-size:15px; font-family:verdana; line-height: 1.7em\">\n",
    "    Well 🤷 I guess I don't need a PhD then.\n",
    "</p>\n",
    "\n",
    "<div style=\"color:white;\n",
    "            display:fill;\n",
    "            background-color:#CBC3E3;\n",
    "            font-family:Verdana;\n",
    "            line-height : 1.7em\">\n",
    "    <p style=\"padding: 10px;\n",
    "              border-style : solid;\n",
    "              border-width: thin;\n",
    "              border-color: purple;\n",
    "              color:purple;\">\n",
    "        📌 &nbsp; Most programmers have only completed their Bachelor's Degree.\n",
    "    </p>\n",
    "</div>"
   ]
  },
  {
   "cell_type": "markdown",
   "id": "903e3d06",
   "metadata": {
    "papermill": {
     "duration": 0.044101,
     "end_time": "2022-02-09T10:18:40.258977",
     "exception": false,
     "start_time": "2022-02-09T10:18:40.214876",
     "status": "completed"
    },
    "tags": []
   },
   "source": [
    "***"
   ]
  },
  {
   "cell_type": "markdown",
   "id": "3532756d",
   "metadata": {
    "papermill": {
     "duration": 0.044098,
     "end_time": "2022-02-09T10:18:40.347374",
     "exception": false,
     "start_time": "2022-02-09T10:18:40.303276",
     "status": "completed"
    },
    "tags": []
   },
   "source": [
    "<h3 style=\"font-family:verdana;\">What is their <span style = \"color : purple\">Employment</span> type ?</h3>"
   ]
  },
  {
   "cell_type": "code",
   "execution_count": 18,
   "id": "b0bad5f2",
   "metadata": {
    "_kg_hide-input": true,
    "execution": {
     "iopub.execute_input": "2022-02-09T10:18:40.462540Z",
     "iopub.status.busy": "2022-02-09T10:18:40.461825Z",
     "iopub.status.idle": "2022-02-09T10:18:40.624183Z",
     "shell.execute_reply": "2022-02-09T10:18:40.625090Z",
     "shell.execute_reply.started": "2022-02-09T05:12:53.716615Z"
    },
    "papermill": {
     "duration": 0.232366,
     "end_time": "2022-02-09T10:18:40.625384",
     "exception": false,
     "start_time": "2022-02-09T10:18:40.393018",
     "status": "completed"
    },
    "tags": []
   },
   "outputs": [
    {
     "data": {
      "image/png": "[encoded data removed]",
      "text/plain": [
       "<Figure size 1008x432 with 1 Axes>"
      ]
     },
     "metadata": {},
     "output_type": "display_data"
    }
   ],
   "source": [
    "plt.figure(figsize=(14,6))\n",
    "colors = [\"#9D61C8\", \"#B799CB\", \"#C5B9CD\"]\n",
    "plt.pie(result_public[\"Employment\"].value_counts(), labels=list(result_public[\"Employment\"].value_counts().index), colors=colors, autopct='%.1f%%');"
   ]
  },
  {
   "cell_type": "markdown",
   "id": "bdc939e8",
   "metadata": {
    "papermill": {
     "duration": 0.045197,
     "end_time": "2022-02-09T10:18:40.740429",
     "exception": false,
     "start_time": "2022-02-09T10:18:40.695232",
     "status": "completed"
    },
    "tags": []
   },
   "source": [
    "<div style=\"color:white;\n",
    "            display:fill;\n",
    "            background-color:#CBC3E3;\n",
    "            font-family:Verdana;\n",
    "            line-height : 1.7em\">\n",
    "    <p style=\"padding: 10px;\n",
    "              border-style : solid;\n",
    "              border-width: thin;\n",
    "              border-color: purple;\n",
    "              color:purple;\">\n",
    "        📌 &nbsp; The majority of working programmers are Employed full-time.\n",
    "    </p>\n",
    "</div>"
   ]
  },
  {
   "cell_type": "markdown",
   "id": "1de401d8",
   "metadata": {
    "papermill": {
     "duration": 0.045616,
     "end_time": "2022-02-09T10:18:40.832429",
     "exception": false,
     "start_time": "2022-02-09T10:18:40.786813",
     "status": "completed"
    },
    "tags": []
   },
   "source": [
    "***"
   ]
  },
  {
   "cell_type": "markdown",
   "id": "9539795e",
   "metadata": {
    "papermill": {
     "duration": 0.045218,
     "end_time": "2022-02-09T10:18:40.922858",
     "exception": false,
     "start_time": "2022-02-09T10:18:40.877640",
     "status": "completed"
    },
    "tags": []
   },
   "source": [
    "<h3 style=\"font-family:verdana;\">What's the <span style = \"color : purple\">trend</span> in the world of tech ?</h3>"
   ]
  },
  {
   "cell_type": "code",
   "execution_count": 19,
   "id": "2a7c247d",
   "metadata": {
    "_kg_hide-input": true,
    "execution": {
     "iopub.execute_input": "2022-02-09T10:18:41.030027Z",
     "iopub.status.busy": "2022-02-09T10:18:41.027534Z",
     "iopub.status.idle": "2022-02-09T10:18:46.514150Z",
     "shell.execute_reply": "2022-02-09T10:18:46.514689Z",
     "shell.execute_reply.started": "2022-02-09T05:12:53.857323Z"
    },
    "papermill": {
     "duration": 5.545493,
     "end_time": "2022-02-09T10:18:46.514920",
     "exception": false,
     "start_time": "2022-02-09T10:18:40.969427",
     "status": "completed"
    },
    "tags": []
   },
   "outputs": [
    {
     "data": {
      "text/plain": [
       "<AxesSubplot:xlabel='count', ylabel='0'>"
      ]
     },
     "execution_count": 19,
     "metadata": {},
     "output_type": "execute_result"
    },
    {
     "data": {
      "image/png": "[encoded data removed]",
      "text/plain": [
       "<Figure size 1080x720 with 1 Axes>"
      ]
     },
     "metadata": {
      "needs_background": "light"
     },
     "output_type": "display_data"
    }
   ],
   "source": [
    "entries = list(result_public[\"DevType\"].unique())\n",
    "li = []\n",
    "for i in entries :\n",
    "    if \",\" in i :\n",
    "        lii = i.split(\",\")\n",
    "        for j in lii :\n",
    "            li.append(j.strip())\n",
    "\n",
    "lf = []\n",
    "for i in li :\n",
    "    if \";\" in i:\n",
    "        liif = i.split(\";\")\n",
    "        for j in liif :\n",
    "            lf.append(j.strip())\n",
    "\n",
    "for i in lf :\n",
    "    if i == \"Developer\" :\n",
    "        lf.pop(lf.index(\"Developer\"))\n",
    "    elif i == \"data\" :\n",
    "        lf.pop(lf.index(\"data\"))\n",
    "    elif i == \"etc.)\" :\n",
    "        lf.pop(lf.index(\"etc.)\"))\n",
    "        \n",
    "dev_type_df = pd.DataFrame(lf)\n",
    "dev_type_df[0].value_counts().head(10)\n",
    "plt.figure(figsize=(15, 10))\n",
    "sns.countplot(y=dev_type_df[0], order = dev_type_df[0].value_counts().index[ : 19], palette = sns.light_palette(\"#9D61C8\", reverse = True, n_colors = int(19 * 1.2)))"
   ]
  },
  {
   "cell_type": "markdown",
   "id": "9f2e95e3",
   "metadata": {
    "papermill": {
     "duration": 0.046444,
     "end_time": "2022-02-09T10:18:46.609328",
     "exception": false,
     "start_time": "2022-02-09T10:18:46.562884",
     "status": "completed"
    },
    "tags": []
   },
   "source": [
    "<p style=\"font-size:15px; font-family:verdana; line-height: 1.7em\">\n",
    "    Alright! The interesting thing that I just found out is that the number of Data Analysts are more than Scientist.\n",
    "</p>\n",
    "\n",
    "<div style=\"color:white;\n",
    "            display:fill;\n",
    "            background-color:#CBC3E3;\n",
    "            font-family:Verdana;\n",
    "            line-height : 1.7em\">\n",
    "    <p style=\"padding: 10px;\n",
    "              border-style : solid;\n",
    "              border-width: thin;\n",
    "              border-color: purple;\n",
    "              color:purple;\">\n",
    "        📌 &nbsp; Most of the developers are Back-end, Full-stack and Front-end Developers. \n",
    "    </p>\n",
    "</div>"
   ]
  },
  {
   "cell_type": "markdown",
   "id": "e899b5a7",
   "metadata": {
    "papermill": {
     "duration": 0.04628,
     "end_time": "2022-02-09T10:18:46.702594",
     "exception": false,
     "start_time": "2022-02-09T10:18:46.656314",
     "status": "completed"
    },
    "tags": []
   },
   "source": [
    "<h3 style=\"font-family:verdana;\">How much do they score in terms of <span style = \"color : purple\">experience</span> ?</h3>"
   ]
  },
  {
   "cell_type": "code",
   "execution_count": 20,
   "id": "4e30e53c",
   "metadata": {
    "_kg_hide-input": true,
    "execution": {
     "iopub.execute_input": "2022-02-09T10:18:46.801769Z",
     "iopub.status.busy": "2022-02-09T10:18:46.800951Z",
     "iopub.status.idle": "2022-02-09T10:18:47.409651Z",
     "shell.execute_reply": "2022-02-09T10:18:47.410183Z",
     "shell.execute_reply.started": "2022-02-09T05:12:59.216005Z"
    },
    "papermill": {
     "duration": 0.660767,
     "end_time": "2022-02-09T10:18:47.410399",
     "exception": false,
     "start_time": "2022-02-09T10:18:46.749632",
     "status": "completed"
    },
    "tags": []
   },
   "outputs": [
    {
     "data": {
      "image/png": "[encoded data removed]",
      "text/plain": [
       "<Figure size 1440x432 with 1 Axes>"
      ]
     },
     "metadata": {
      "needs_background": "light"
     },
     "output_type": "display_data"
    }
   ],
   "source": [
    "plt.figure(figsize = (20, 6))\n",
    "sns.histplot(x = result_public[\"YearsCode\"], color = \"purple\", bins=30, kde=True);"
   ]
  },
  {
   "cell_type": "code",
   "execution_count": 21,
   "id": "3308808c",
   "metadata": {
    "_kg_hide-input": true,
    "execution": {
     "iopub.execute_input": "2022-02-09T10:18:47.515675Z",
     "iopub.status.busy": "2022-02-09T10:18:47.513972Z",
     "iopub.status.idle": "2022-02-09T10:18:48.142383Z",
     "shell.execute_reply": "2022-02-09T10:18:48.141825Z",
     "shell.execute_reply.started": "2022-02-09T05:12:59.725651Z"
    },
    "papermill": {
     "duration": 0.684084,
     "end_time": "2022-02-09T10:18:48.142552",
     "exception": false,
     "start_time": "2022-02-09T10:18:47.458468",
     "status": "completed"
    },
    "tags": []
   },
   "outputs": [
    {
     "data": {
      "image/png": "[encoded data removed]",
      "text/plain": [
       "<Figure size 1440x432 with 1 Axes>"
      ]
     },
     "metadata": {
      "needs_background": "light"
     },
     "output_type": "display_data"
    }
   ],
   "source": [
    "plt.figure(figsize = (20, 6))\n",
    "sns.histplot(x = result_public[\"YearsCodePro\"], color = \"purple\", bins=30, kde=True);"
   ]
  },
  {
   "cell_type": "markdown",
   "id": "8c8eab25",
   "metadata": {
    "papermill": {
     "duration": 0.050217,
     "end_time": "2022-02-09T10:18:48.243299",
     "exception": false,
     "start_time": "2022-02-09T10:18:48.193082",
     "status": "completed"
    },
    "tags": []
   },
   "source": [
    "<div style=\"color:white;\n",
    "            display:fill;\n",
    "            background-color:#CBC3E3;\n",
    "            font-family:Verdana;\n",
    "            line-height : 1.7em\">\n",
    "    <p style=\"padding: 10px;\n",
    "              border-style : solid;\n",
    "              border-width: thin;\n",
    "              border-color: purple;\n",
    "              color:purple;\">\n",
    "        📌 &nbsp; On an avg, majority of the developers have coded for for 6 - 10 years and worked for 1 - 2 years professionally.\n",
    "    </p>\n",
    "</div>"
   ]
  },
  {
   "cell_type": "markdown",
   "id": "4254392b",
   "metadata": {
    "papermill": {
     "duration": 0.050066,
     "end_time": "2022-02-09T10:18:48.343887",
     "exception": false,
     "start_time": "2022-02-09T10:18:48.293821",
     "status": "completed"
    },
    "tags": []
   },
   "source": [
    "<h3 style=\"font-family:verdana;\"><span style = \"color : purple\">Gender</span> distribution ?</h3>"
   ]
  },
  {
   "cell_type": "code",
   "execution_count": 22,
   "id": "7a6e557e",
   "metadata": {
    "_kg_hide-input": true,
    "execution": {
     "iopub.execute_input": "2022-02-09T10:18:48.448053Z",
     "iopub.status.busy": "2022-02-09T10:18:48.447328Z",
     "iopub.status.idle": "2022-02-09T10:18:48.571312Z",
     "shell.execute_reply": "2022-02-09T10:18:48.572283Z",
     "shell.execute_reply.started": "2022-02-09T05:13:00.254186Z"
    },
    "papermill": {
     "duration": 0.178294,
     "end_time": "2022-02-09T10:18:48.572615",
     "exception": false,
     "start_time": "2022-02-09T10:18:48.394321",
     "status": "completed"
    },
    "tags": []
   },
   "outputs": [
    {
     "data": {
      "image/png": "[encoded data removed]",
      "text/plain": [
       "<Figure size 1008x432 with 1 Axes>"
      ]
     },
     "metadata": {},
     "output_type": "display_data"
    }
   ],
   "source": [
    "plt.figure(figsize=(14,6))\n",
    "colors = [\"#9D61C8\", \"#B799CB\"]\n",
    "plt.pie(result_public[\"Gender\"].value_counts(), labels=list(result_public[\"Gender\"].value_counts().index), colors=colors, autopct='%.1f%%');"
   ]
  },
  {
   "cell_type": "markdown",
   "id": "b8ce9abb",
   "metadata": {
    "papermill": {
     "duration": 0.051791,
     "end_time": "2022-02-09T10:18:48.713895",
     "exception": false,
     "start_time": "2022-02-09T10:18:48.662104",
     "status": "completed"
    },
    "tags": []
   },
   "source": [
    "<p style=\"font-size:15px; font-family:verdana; line-height: 1.7em\">\n",
    "    Well... If you ask me, girls in the tech industry are goddesses 🤷 just saying.\n",
    "</p>\n",
    "\n",
    "<div style=\"color:white;\n",
    "            display:fill;\n",
    "            background-color:#CBC3E3;\n",
    "            font-family:Verdana;\n",
    "            line-height : 1.7em\">\n",
    "    <p style=\"padding: 10px;\n",
    "              border-style : solid;\n",
    "              border-width: thin;\n",
    "              border-color: purple;\n",
    "              color:purple;\">\n",
    "        📌 &nbsp; Man : 94.4% ; Woman : 4.6%\n",
    "    </p>\n",
    "</div>"
   ]
  },
  {
   "cell_type": "markdown",
   "id": "a3f14934",
   "metadata": {
    "papermill": {
     "duration": 0.054998,
     "end_time": "2022-02-09T10:18:48.821040",
     "exception": false,
     "start_time": "2022-02-09T10:18:48.766042",
     "status": "completed"
    },
    "tags": []
   },
   "source": [
    "<h3 style=\"font-family:verdana;\">What kind of <span style = \"color : purple\">mental health issues</span> do they deal with ?</h3>"
   ]
  },
  {
   "cell_type": "code",
   "execution_count": 23,
   "id": "677bdba7",
   "metadata": {
    "_kg_hide-input": true,
    "execution": {
     "iopub.execute_input": "2022-02-09T10:18:48.963094Z",
     "iopub.status.busy": "2022-02-09T10:18:48.962034Z",
     "iopub.status.idle": "2022-02-09T10:18:48.966367Z",
     "shell.execute_reply": "2022-02-09T10:18:48.967010Z",
     "shell.execute_reply.started": "2022-02-09T05:13:00.345526Z"
    },
    "papermill": {
     "duration": 0.090365,
     "end_time": "2022-02-09T10:18:48.967215",
     "exception": false,
     "start_time": "2022-02-09T10:18:48.876850",
     "status": "completed"
    },
    "tags": []
   },
   "outputs": [
    {
     "data": {
      "text/html": [
       "<div>\n",
       "<style scoped>\n",
       "    .dataframe tbody tr th:only-of-type {\n",
       "        vertical-align: middle;\n",
       "    }\n",
       "\n",
       "    .dataframe tbody tr th {\n",
       "        vertical-align: top;\n",
       "    }\n",
       "\n",
       "    .dataframe thead th {\n",
       "        text-align: right;\n",
       "    }\n",
       "</style>\n",
       "<table border=\"1\" class=\"dataframe\">\n",
       "  <thead>\n",
       "    <tr style=\"text-align: right;\">\n",
       "      <th></th>\n",
       "      <th>MentalHealth</th>\n",
       "    </tr>\n",
       "  </thead>\n",
       "  <tbody>\n",
       "    <tr>\n",
       "      <th>I have an anxiety disorder</th>\n",
       "      <td>2517</td>\n",
       "    </tr>\n",
       "    <tr>\n",
       "      <th>I have a concentration and/or memory disorder (e.g. ADHD)</th>\n",
       "      <td>1906</td>\n",
       "    </tr>\n",
       "    <tr>\n",
       "      <th>I have a mood or emotional disorder (e.g. depression, bipolar disorder)</th>\n",
       "      <td>1511</td>\n",
       "    </tr>\n",
       "    <tr>\n",
       "      <th>I have autism / an autism spectrum disorder (e.g. Asperger's)</th>\n",
       "      <td>671</td>\n",
       "    </tr>\n",
       "  </tbody>\n",
       "</table>\n",
       "</div>"
      ],
      "text/plain": [
       "                                                    MentalHealth\n",
       "I have an anxiety disorder                                  2517\n",
       "I have a concentration and/or memory disorder (...          1906\n",
       "I have a mood or emotional disorder (e.g. depre...          1511\n",
       "I have autism / an autism spectrum disorder (e....           671"
      ]
     },
     "execution_count": 23,
     "metadata": {},
     "output_type": "execute_result"
    }
   ],
   "source": [
    "mental_health = pd.DataFrame(result_public[\"MentalHealth\"].value_counts().head(8))\n",
    "mental_health = mental_health[mental_health.index != \"None of the above\"]\n",
    "mental_health = mental_health[mental_health.index != \"I have a mood or emotional disorder (e.g. depression, bipolar disorder);I have an anxiety disorder\"]\n",
    "mental_health = mental_health[mental_health.index != \"Prefer not to say\"]\n",
    "mental_health[\"MentalHealth\"].iloc[0] += 571\n",
    "mental_health = mental_health[mental_health.index != \"I have a concentration and/or memory disorder (e.g. ADHD);I have a mood or emotional disorder (e.g. depression, bipolar disorder);I have an anxiety disorder\"]\n",
    "\n",
    "mental_health"
   ]
  },
  {
   "cell_type": "markdown",
   "id": "b01e6c5c",
   "metadata": {
    "papermill": {
     "duration": 0.053202,
     "end_time": "2022-02-09T10:18:49.074112",
     "exception": false,
     "start_time": "2022-02-09T10:18:49.020910",
     "status": "completed"
    },
    "tags": []
   },
   "source": [
    "<p style=\"font-size:15px; font-family:verdana; line-height: 1.7em\">\n",
    "    The above are the the four main mental health issues developers deal with everyday.\n",
    "</p>"
   ]
  },
  {
   "cell_type": "code",
   "execution_count": 24,
   "id": "800b36cf",
   "metadata": {
    "_kg_hide-input": true,
    "execution": {
     "iopub.execute_input": "2022-02-09T10:18:49.185884Z",
     "iopub.status.busy": "2022-02-09T10:18:49.185091Z",
     "iopub.status.idle": "2022-02-09T10:18:49.581459Z",
     "shell.execute_reply": "2022-02-09T10:18:49.582269Z",
     "shell.execute_reply.started": "2022-02-09T05:13:00.373475Z"
    },
    "papermill": {
     "duration": 0.456655,
     "end_time": "2022-02-09T10:18:49.582542",
     "exception": false,
     "start_time": "2022-02-09T10:18:49.125887",
     "status": "completed"
    },
    "tags": []
   },
   "outputs": [
    {
     "data": {
      "image/png": "[encoded data removed]",
      "text/plain": [
       "<Figure size 576x576 with 1 Axes>"
      ]
     },
     "metadata": {
      "needs_background": "light"
     },
     "output_type": "display_data"
    }
   ],
   "source": [
    "wc = WordCloud(background_color ='white', colormap = \"flare\").generate(\"Anxiety ADHD Depression Autism\")\n",
    "\n",
    "plt.figure(figsize = (8, 8), facecolor = None)\n",
    "plt.imshow(wc)\n",
    "plt.axis(\"off\")\n",
    "plt.tight_layout(pad = 0)\n",
    " \n",
    "plt.show()"
   ]
  },
  {
   "cell_type": "markdown",
   "id": "4f6ac8ca",
   "metadata": {
    "papermill": {
     "duration": 0.054128,
     "end_time": "2022-02-09T10:18:49.693630",
     "exception": false,
     "start_time": "2022-02-09T10:18:49.639502",
     "status": "completed"
    },
    "tags": []
   },
   "source": [
    "<blockquote style=\"font-size:15px; font-family:verdana; line-height: 1.7em\">\n",
    "    I request every programmers out there to read this blog from <a href = geeksforgeeks.com>GeeksforGeeks</a>. (not sponsered or anything)<br>\n",
    "    Hope that helps you with mental state 💜<br>\n",
    "    Thank You!\n",
    "</blockquote>"
   ]
  },
  {
   "cell_type": "markdown",
   "id": "222cab1b",
   "metadata": {
    "papermill": {
     "duration": 0.055483,
     "end_time": "2022-02-09T10:18:49.802462",
     "exception": false,
     "start_time": "2022-02-09T10:18:49.746979",
     "status": "completed"
    },
    "tags": []
   },
   "source": [
    "<h3 style=\"font-family:verdana; color : purple\">Thanks for checking out my notebook.<br>Hope you enjoyed 💜</h3>"
   ]
  }
 ],
 "metadata": {
  "kernelspec": {
   "display_name": "Python 3",
   "language": "python",
   "name": "python3"
  },
  "language_info": {
   "codemirror_mode": {
    "name": "ipython",
    "version": 3
   },
   "file_extension": ".py",
   "mimetype": "text/x-python",
   "name": "python",
   "nbconvert_exporter": "python",
   "pygments_lexer": "ipython3",
   "version": "3.8.8"
  },
  "papermill": {
   "default_parameters": {},
   "duration": 56.724703,
   "end_time": "2022-02-09T10:18:50.970077",
   "environment_variables": {},
   "exception": null,
   "input_path": "__notebook__.ipynb",
   "output_path": "__notebook__.ipynb",
   "parameters": {},
   "start_time": "2022-02-09T10:17:54.245374",
   "version": "2.3.3"
  }
 },
 "nbformat": 4,
 "nbformat_minor": 5
}
